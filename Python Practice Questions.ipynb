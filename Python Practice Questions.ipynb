{
 "cells": [
  {
   "cell_type": "markdown",
   "id": "20ddaf95",
   "metadata": {},
   "source": [
    "# Python Practics Questions"
   ]
  },
  {
   "cell_type": "markdown",
   "id": "3d73c1be",
   "metadata": {},
   "source": [
    "## 1. User will input (3 ages). Find the oldest one"
   ]
  },
  {
   "cell_type": "code",
   "execution_count": 2,
   "id": "c0917d7a",
   "metadata": {},
   "outputs": [
    {
     "name": "stdout",
     "output_type": "stream",
     "text": [
      "Oldest age is 45\n"
     ]
    }
   ],
   "source": [
    "a = int(input(\"Enter first age\"))\n",
    "b= int(input(\"Enter second age\"))\n",
    "c = int(input(\"Enter third age\"))\n",
    "\n",
    "oldest = max(a,b,c)\n",
    "print(f\"Oldest age is {oldest}\")\n",
    "\n"
   ]
  },
  {
   "cell_type": "markdown",
   "id": "bab78d04",
   "metadata": {},
   "source": [
    "## 2. Convert Celsius to Fahrenheit"
   ]
  },
  {
   "cell_type": "code",
   "execution_count": 4,
   "id": "688127b2",
   "metadata": {},
   "outputs": [
    {
     "name": "stdout",
     "output_type": "stream",
     "text": [
      "30.0 degree Celsius is equal to 86.0 fahrenheit \n"
     ]
    }
   ],
   "source": [
    "celsius = float(input(\"Enter the temperature in Celsius:\"))\n",
    "fahrenheit = (celsius * 9/5) + 32\n",
    "print(f\"{celsius} degree Celsius is equal to {fahrenheit} fahrenheit \")"
   ]
  },
  {
   "cell_type": "markdown",
   "id": "df2f9cf9",
   "metadata": {},
   "source": [
    "## 3. Swap two numbers"
   ]
  },
  {
   "cell_type": "code",
   "execution_count": 5,
   "id": "ecfbc0a8",
   "metadata": {},
   "outputs": [
    {
     "name": "stdout",
     "output_type": "stream",
     "text": [
      "After swapping, first number is 4 and second number is 3\n"
     ]
    }
   ],
   "source": [
    "num1 = int(input(\"Enter first number:\"))\n",
    "num2 = int(input(\"Enter second number:\"))\n",
    "\n",
    "num1, num2 = num2, num1\n",
    "\n",
    "print(f\"After swapping, first number is {num1} and second number is {num2}\")"
   ]
  },
  {
   "cell_type": "markdown",
   "id": "2a218cfe",
   "metadata": {},
   "source": [
    "## 4. Sum of 3 digits"
   ]
  },
  {
   "cell_type": "code",
   "execution_count": 7,
   "id": "d294effb",
   "metadata": {},
   "outputs": [
    {
     "name": "stdout",
     "output_type": "stream",
     "text": [
      "sum of digits is 8\n"
     ]
    }
   ],
   "source": [
    "num = int(input(\"enter three digit number:\"))\n",
    "sum = num//100 + (num//10)%10 + num%10\n",
    "print(f\"sum of digits is {sum}\")"
   ]
  },
  {
   "cell_type": "markdown",
   "id": "6a592054",
   "metadata": {},
   "source": [
    "## 5. Reverse a four-digit number & check if reverse is same"
   ]
  },
  {
   "cell_type": "code",
   "execution_count": 10,
   "id": "f0057c5a",
   "metadata": {},
   "outputs": [
    {
     "name": "stdout",
     "output_type": "stream",
     "text": [
      "4567 is not a palindrome\n"
     ]
    }
   ],
   "source": [
    "num = int(input(\"Enter a four digit number:\"))\n",
    "reverse_no = int(str(num)[::-1])\n",
    "\n",
    "if num == reverse_no:\n",
    "    print(f\"{num} is a palindrome\")\n",
    "else:\n",
    "    print(f\"{num} is not a palindrome\")"
   ]
  },
  {
   "cell_type": "markdown",
   "id": "449b43fc",
   "metadata": {},
   "source": [
    "## 6. Odd or Even"
   ]
  },
  {
   "cell_type": "code",
   "execution_count": 11,
   "id": "7a71f434",
   "metadata": {},
   "outputs": [
    {
     "name": "stdout",
     "output_type": "stream",
     "text": [
      "43 is odd\n"
     ]
    }
   ],
   "source": [
    "num = int(input(\"Enter a number:\"))\n",
    "\n",
    "if num%2==0:\n",
    "    print(f\"{num} is even\")\n",
    "\n",
    "else:\n",
    "    print(f\"{num} is odd\")"
   ]
  },
  {
   "cell_type": "markdown",
   "id": "1b633f56",
   "metadata": {},
   "source": [
    "## 7. Leap Year or Not"
   ]
  },
  {
   "cell_type": "code",
   "execution_count": 13,
   "id": "bd455707",
   "metadata": {},
   "outputs": [
    {
     "name": "stdout",
     "output_type": "stream",
     "text": [
      "2001 is not a leap year\n"
     ]
    }
   ],
   "source": [
    "year = int(input(\"Enter the year\"))\n",
    "\n",
    "if year%4==0:\n",
    "    if year%100==0:\n",
    "        if year%400==0:\n",
    "            print(f\"{year} is a leap year\")\n",
    "        else:\n",
    "            print(f\"{year} is not a leap year\")\n",
    "    else:\n",
    "        print(f\"{year} is a leap year\")\n",
    "else:\n",
    "    print(f\"{year} is not a leap year\")\n"
   ]
  },
  {
   "cell_type": "markdown",
   "id": "0c211bba",
   "metadata": {},
   "source": [
    "## 8. Euclidean distance between two coordinates"
   ]
  },
  {
   "cell_type": "code",
   "execution_count": 15,
   "id": "077bb704",
   "metadata": {},
   "outputs": [
    {
     "name": "stdout",
     "output_type": "stream",
     "text": [
      "Eucledean distance is 3.7202150475476548\n"
     ]
    }
   ],
   "source": [
    "import math\n",
    "\n",
    "x1 =  float(input(\"Enter x1 coordinate:\"))\n",
    "y1 = float(input(\"Enter y1 coordinate:\"))\n",
    "x2 = float(input(\"Enter x2 coordinate:\"))\n",
    "y2 = float(input(\"Enter y2 coordinate:\"))\n",
    "distance = math.sqrt((x2-x1)**2 + (y2-y1)**2)\n",
    "\n",
    "print(f\"Eucledean distance is {distance}\")"
   ]
  },
  {
   "cell_type": "markdown",
   "id": "e81a0adb",
   "metadata": {},
   "source": [
    "## 9. Can three angles form a triangle?"
   ]
  },
  {
   "cell_type": "code",
   "execution_count": 16,
   "id": "82aba07e",
   "metadata": {},
   "outputs": [
    {
     "name": "stdout",
     "output_type": "stream",
     "text": [
      "The angles can form a triangle\n"
     ]
    }
   ],
   "source": [
    "angle1 = float(input(\"Enter first angle:\"))\n",
    "angle2 = float(input(\"Enter second angle:\"))\n",
    "angle3 = float(input(\"Enter third angle:\"))\n",
    "\n",
    "if angle1 + angle2 + angle3 == 180:\n",
    "    print(\"The angles can form a triangle\")\n",
    "else:\n",
    "    print(\"The angles cannot form a triangle\")"
   ]
  },
  {
   "cell_type": "markdown",
   "id": "2495b415",
   "metadata": {},
   "source": [
    "## 10. Profit or Loss"
   ]
  },
  {
   "cell_type": "code",
   "execution_count": 18,
   "id": "dc88b1d9",
   "metadata": {},
   "outputs": [
    {
     "name": "stdout",
     "output_type": "stream",
     "text": [
      "Selling price is greater than cost price by 40.0\n"
     ]
    }
   ],
   "source": [
    "cost_price = float(input(\"Enter the cost price:\"))\n",
    "selling_price = float(input(\"Enter the selling price\"))\n",
    "\n",
    "if selling_price > cost_price:\n",
    "    profit = selling_price - cost_price\n",
    "    print(f\"Selling price is greater than cost price by {profit}\")\n",
    "    \n",
    "elif selling_price < cost_price:\n",
    "    loss = cost_price - selling_price\n",
    "    print(f\"Cost price is greater than selling price by {loss}\")\n",
    "\n",
    "else:\n",
    "    print(\"Selling price is equal to cost price, no profit or loss\")\n"
   ]
  },
  {
   "cell_type": "markdown",
   "id": "65a66427",
   "metadata": {},
   "source": [
    "## 11. Simple Interest\n"
   ]
  },
  {
   "cell_type": "code",
   "execution_count": 19,
   "id": "f43b6277",
   "metadata": {},
   "outputs": [
    {
     "name": "stdout",
     "output_type": "stream",
     "text": [
      "simple interest is 500.0\n"
     ]
    }
   ],
   "source": [
    "P = float(input(\"Enter the Principal Amount:\"))\n",
    "R = float(input(\"Enter the Rate of Interest:\"))\n",
    "T = float(input(\"enter time in years:\"))\n",
    "\n",
    "SI = (P * R * T) / 100\n",
    "\n",
    "print(f\"simple interest is {SI}\")"
   ]
  },
  {
   "cell_type": "markdown",
   "id": "5e185c2c",
   "metadata": {},
   "source": [
    "## 12. Volume of a cylinder & cost of milk"
   ]
  },
  {
   "cell_type": "code",
   "execution_count": 21,
   "id": "a413ce1c",
   "metadata": {},
   "outputs": [
    {
     "name": "stdout",
     "output_type": "stream",
     "text": [
      "The total cost of milk is 5654866.776461628 rupees\n"
     ]
    }
   ],
   "source": [
    "import math\n",
    "\n",
    "r = float(input(\"Enter the radius of the circle:\"))\n",
    "h = float(input(\"Enter the height of the cylinder:\"))\n",
    "\n",
    "# Volume in cubic meters\n",
    "volume_m3 = math.pi * (r**2) * h\n",
    "\n",
    "# Convert meter to litres (1 cubic meter = 1000 litres)\n",
    "volume_litres = volume_m3 * 1000\n",
    "\n",
    "# If cost of milk is 50 per litre\n",
    "cost_per_litre = 50\n",
    "total_cost = volume_litres * cost_per_litre \n",
    "\n",
    "print(f\"The total cost of milk is {total_cost} rupees\")\n"
   ]
  },
  {
   "cell_type": "markdown",
   "id": "c853856a",
   "metadata": {},
   "source": [
    "## 13. Divisible by 3 and 6"
   ]
  },
  {
   "cell_type": "code",
   "execution_count": 22,
   "id": "dfc9642e",
   "metadata": {},
   "outputs": [
    {
     "name": "stdout",
     "output_type": "stream",
     "text": [
      "66 is divisible by both 3 and 6\n"
     ]
    }
   ],
   "source": [
    "num = int(input(\"Enter a number:\"))\n",
    "\n",
    "if num % 3 == 0 and num % 6 ==0:\n",
    "    print(f\"{num} is divisible by both 3 and 6\")\n",
    "else:\n",
    "    print(f\"{num} is not divisible by both 3 and 6\")"
   ]
  },
  {
   "cell_type": "markdown",
   "id": "aa723178",
   "metadata": {},
   "source": [
    "## 14. Angle between hour and minute hand"
   ]
  },
  {
   "cell_type": "code",
   "execution_count": 28,
   "id": "5f4157e6",
   "metadata": {},
   "outputs": [
    {
     "name": "stdout",
     "output_type": "stream",
     "text": [
      "The angle between hour and minute hand is 132.0 degrees\n"
     ]
    }
   ],
   "source": [
    "def clock_angle(H,M):\n",
    "    # Convert H to 12 hour format\n",
    "    H= H%12\n",
    "\n",
    "    H_angle = (H * 30) + (M * 0.5)\n",
    "    M_angle = M * 6\n",
    "\n",
    "    angle = abs(H_angle - M_angle)\n",
    "\n",
    "    return(min(360-angle, angle))\n",
    "\n",
    "H = int(input(\"Enter hour:\"))\n",
    "M = int(input(\"Enter minutes:\"))    \n",
    "\n",
    "angle = clock_angle(H,M)\n",
    "print(f\"The angle between hour and minute hand is {angle} degrees\")\n",
    "\n",
    "\n"
   ]
  },
  {
   "cell_type": "markdown",
   "id": "b72b6acf",
   "metadata": {},
   "source": [
    "## 15. Overlapping rectangles"
   ]
  },
  {
   "cell_type": "code",
   "execution_count": null,
   "id": "17098c5e",
   "metadata": {},
   "outputs": [],
   "source": [
    "def is_overlapping(l1, r1, l2, r2):\n",
    "    # If one rectangle is to the left of the other\n",
    "    if l1[0] >= r2[0] or l2[0] >= r1[0]:\n",
    "        return False\n",
    "    # If one rectangle is above the other\n",
    "    if l1[1] <= r2[1] or l2[1] <= r1[1]:\n",
    "        return False\n",
    "    return True\n",
    "\n",
    "l1 = list(map(int, input(\"Enter top-left of rect1 (x y): \").split()))\n",
    "r1 = list(map(int, input(\"Enter bottom-right of rect1 (x y): \").split()))\n",
    "l2 = list(map(int, input(\"Enter top-left of rect2 (x y): \").split()))\n",
    "r2 = list(map(int, input(\"Enter bottom-right of rect2 (x y): \").split()))\n",
    "\n",
    "print(\"Overlapping:\", is_overlapping(l1, r1, l2, r2))\n"
   ]
  },
  {
   "cell_type": "markdown",
   "id": "47e12258",
   "metadata": {},
   "source": [
    "## 16. Determine weather"
   ]
  },
  {
   "cell_type": "code",
   "execution_count": 29,
   "id": "20c3eb6f",
   "metadata": {},
   "outputs": [
    {
     "name": "stdout",
     "output_type": "stream",
     "text": [
      "Hot and Humid\n"
     ]
    }
   ],
   "source": [
    "temp = float(input(\"Enter temperature in °C: \"))\n",
    "humidity = float(input(\"Enter humidity in %: \"))\n",
    "\n",
    "if temp >= 30 and humidity >= 90:\n",
    "    print(\"Hot and Humid\")\n",
    "elif temp >= 30 and humidity < 90:\n",
    "    print(\"Hot\")\n",
    "elif temp < 30 and humidity >= 90:\n",
    "    print(\"Cool and Humid\")\n",
    "else:\n",
    "    print(\"Cool\")\n"
   ]
  },
  {
   "cell_type": "markdown",
   "id": "295cfb4f",
   "metadata": {},
   "source": [
    "## 17. Add square of three digits"
   ]
  },
  {
   "cell_type": "code",
   "execution_count": 31,
   "id": "51b98d0a",
   "metadata": {},
   "outputs": [
    {
     "name": "stdout",
     "output_type": "stream",
     "text": [
      "Sum of squares: 29\n"
     ]
    }
   ],
   "source": [
    "num = int(input(\"Enter a 3-digit number: \"))\n",
    "sum_squares = (num // 100) ** 2 + ((num // 10) % 10) ** 2 + (num % 10) ** 2\n",
    "print(\"Sum of squares:\", sum_squares)\n"
   ]
  },
  {
   "cell_type": "markdown",
   "id": "9e6eab81",
   "metadata": {},
   "source": [
    "## 18. Armstrong number check"
   ]
  },
  {
   "cell_type": "code",
   "execution_count": null,
   "id": "bb8090e1",
   "metadata": {},
   "outputs": [],
   "source": [
    "num = int(input(\"Enter a number: \"))\n",
    "order = len(str(num))\n",
    "sum_of_powers = sum(int(digit) ** order for digit in str(num))\n",
    "\n",
    "if sum_of_powers == num:\n",
    "    print(\"Armstrong number\")\n",
    "else:\n",
    "    print(\"Not an Armstrong number\")\n"
   ]
  },
  {
   "cell_type": "markdown",
   "id": "0fd9fbd2",
   "metadata": {},
   "source": [
    "## 19. Narcissist number (4 digits)"
   ]
  },
  {
   "cell_type": "code",
   "execution_count": null,
   "id": "a2d29934",
   "metadata": {},
   "outputs": [],
   "source": [
    "num = int(input(\"Enter a 4-digit number: \"))\n",
    "sum_of_powers = sum(int(digit) ** 4 for digit in str(num))\n",
    "\n",
    "if sum_of_powers == num:\n",
    "    print(\"Narcissist number\")\n",
    "else:\n",
    "    print(\"Not a Narcissist number\")\n"
   ]
  },
  {
   "cell_type": "markdown",
   "id": "b1eee672",
   "metadata": {},
   "source": [
    "## 20. In-hand salary calculation"
   ]
  },
  {
   "cell_type": "code",
   "execution_count": null,
   "id": "25fb8522",
   "metadata": {},
   "outputs": [],
   "source": [
    "salary = float(input(\"Enter gross salary: \"))\n",
    "\n",
    "# Deductions\n",
    "HRA = 0.10 * salary\n",
    "DA = 0.05 * salary\n",
    "PF = 0.03 * salary\n",
    "\n",
    "tax = 0\n",
    "if 500000 <= salary <= 1000000:\n",
    "    tax = 0.10 * salary\n",
    "elif 1100000 <= salary <= 2000000:\n",
    "    tax = 0.20 * salary\n",
    "elif salary > 2000000:\n",
    "    tax = 0.30 * salary\n",
    "\n",
    "in_hand = salary - (HRA + DA + PF + tax)\n",
    "print(f\"In-hand salary: ₹{in_hand:.2f}\")\n"
   ]
  }
 ],
 "metadata": {
  "kernelspec": {
   "display_name": "Python 3",
   "language": "python",
   "name": "python3"
  },
  "language_info": {
   "codemirror_mode": {
    "name": "ipython",
    "version": 3
   },
   "file_extension": ".py",
   "mimetype": "text/x-python",
   "name": "python",
   "nbconvert_exporter": "python",
   "pygments_lexer": "ipython3",
   "version": "3.11.13"
  }
 },
 "nbformat": 4,
 "nbformat_minor": 5
}
