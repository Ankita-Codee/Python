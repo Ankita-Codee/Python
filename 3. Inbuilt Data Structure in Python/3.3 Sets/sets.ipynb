{
 "cells": [
  {
   "cell_type": "markdown",
   "id": "86e6e6e1",
   "metadata": {},
   "source": [
    "# Module 3: Data Structures Assignments\n",
    "## Lesson 3.3: Sets\n",
    "### Assignment 1: Creating and Accessing Sets\n",
    "\n",
    "#### Create a set with the first 10 positive integers. Print the set."
   ]
  },
  {
   "cell_type": "code",
   "execution_count": 1,
   "id": "8d8d73fc",
   "metadata": {},
   "outputs": [
    {
     "name": "stdout",
     "output_type": "stream",
     "text": [
      "{1, 2, 3, 4, 5, 6, 7, 8, 9, 10}\n"
     ]
    }
   ],
   "source": [
    "set1 = set(range(1,11))\n",
    "print(set1)"
   ]
  },
  {
   "cell_type": "markdown",
   "id": "89fd981b",
   "metadata": {},
   "source": [
    "### Assignment 2: Adding and Removing Elements\n",
    "\n",
    "#### Add the number 11 to the set created in Assignment 1. Then remove the number 1 from the set. Print the modified set."
   ]
  },
  {
   "cell_type": "code",
   "execution_count": 6,
   "id": "e95ce23a",
   "metadata": {},
   "outputs": [
    {
     "name": "stdout",
     "output_type": "stream",
     "text": [
      "After adding 11 to the set1: {1, 2, 3, 4, 5, 6, 7, 8, 9, 10, 11}\n",
      "After removing 1 from the set1: {2, 3, 4, 5, 6, 7, 8, 9, 10, 11}\n"
     ]
    }
   ],
   "source": [
    "set1.add(11)\n",
    "print(f\"After adding 11 to the set1: {set1}\")\n",
    "set1.remove(1)\n",
    "print(f\"After removing 1 from the set1: {set1}\")"
   ]
  },
  {
   "cell_type": "code",
   "execution_count": null,
   "id": "c936963d",
   "metadata": {},
   "outputs": [],
   "source": [
    "myset = {1, 2, 3}\n",
    "\n",
    "# Using remove()\n",
    "myset.remove(2)       # Works fine\n",
    "print(myset)          # {1, 3}\n",
    "\n",
    "# myset.remove(5)     # ❌ Raises KeyError because 5 is not in the set\n",
    "\n",
    "# Using discard()\n",
    "myset.discard(3)      # Works fine\n",
    "print(myset)          # {1}\n",
    "\n",
    "myset.discard(5)      # ✅ No error, does nothing\n",
    "print(myset)          # {1}\n"
   ]
  },
  {
   "cell_type": "markdown",
   "id": "ea6bb024",
   "metadata": {},
   "source": [
    "#### 💡 Tip:\n",
    "\n",
    "- Use remove() when you are sure the element exists.\n",
    "\n",
    "- Use discard() when you’re not sure and don’t want errors."
   ]
  },
  {
   "cell_type": "markdown",
   "id": "3092e2cd",
   "metadata": {},
   "source": [
    "### Assignment 3: Set Operations\n",
    "\n",
    "#### Create two sets: one with the first 5 positive integers and another with the first 5 even integers. Perform and print the results of union, intersection, difference, and symmetric difference operations on these sets."
   ]
  },
  {
   "cell_type": "code",
   "execution_count": 10,
   "id": "8d8d6f02",
   "metadata": {},
   "outputs": [
    {
     "name": "stdout",
     "output_type": "stream",
     "text": [
      "{1, 2, 3, 4, 5, 6, 8, 10}\n",
      "{2, 4}\n",
      "{1, 3, 5}\n",
      "{1, 3, 5, 6, 8, 10}\n",
      "{1, 2, 3, 4, 5, 6, 8, 10}\n",
      "{2, 4}\n",
      "{1, 3, 5, 6, 8, 10}\n"
     ]
    }
   ],
   "source": [
    "set1 = {1,2,3,4,5}\n",
    "set2 = {2,4,6,8,10}\n",
    "print(set1.union(set2))\n",
    "print(set1.intersection(set2))\n",
    "print(set1.difference(set2))\n",
    "print(set1.symmetric_difference(set2))\n",
    "\n",
    "#OR\n",
    "\n",
    "print(set1 | set2)\n",
    "print(set1 & set2)\n",
    "#print(set1 - set2)\n",
    "print(set1 ^ set2)"
   ]
  },
  {
   "cell_type": "markdown",
   "id": "8bbfa9f2",
   "metadata": {},
   "source": [
    "### Assignment 4: Set Comprehensions\n",
    "\n",
    "#### Create a new set containing the squares of the first 10 positive integers using a set comprehension. Print the new set."
   ]
  },
  {
   "cell_type": "code",
   "execution_count": 11,
   "id": "de5f9ee0",
   "metadata": {},
   "outputs": [
    {
     "name": "stdout",
     "output_type": "stream",
     "text": [
      "{64, 1, 4, 36, 100, 9, 16, 49, 81, 25}\n"
     ]
    }
   ],
   "source": [
    "set1 = set(range(1,11))\n",
    "set2_sq = {x**2 for x in set1}\n",
    "print(set2_sq)"
   ]
  },
  {
   "cell_type": "markdown",
   "id": "64ef490b",
   "metadata": {},
   "source": [
    "### Assignment 5: Filtering Sets\n",
    "\n",
    "#### Create a new set containing only the even numbers from the set created in Assignment 4 using a set comprehension. Print the new set."
   ]
  },
  {
   "cell_type": "code",
   "execution_count": 12,
   "id": "920cf3a7",
   "metadata": {},
   "outputs": [
    {
     "name": "stdout",
     "output_type": "stream",
     "text": [
      "{64, 100, 4, 36, 16}\n"
     ]
    }
   ],
   "source": [
    "set2_sq_even = {x for x in set2_sq if x%2==0}\n",
    "print(set2_sq_even)"
   ]
  },
  {
   "cell_type": "markdown",
   "id": "c960b687",
   "metadata": {},
   "source": [
    "### Assignment 6: Set Methods\n",
    "\n",
    "#### Create a set with duplicate elements and remove the duplicates using set methods. Print the modified set.\n"
   ]
  },
  {
   "cell_type": "code",
   "execution_count": 13,
   "id": "48f34151",
   "metadata": {},
   "outputs": [
    {
     "data": {
      "text/plain": [
       "{1, 2, 3, 4, 5}"
      ]
     },
     "execution_count": 13,
     "metadata": {},
     "output_type": "execute_result"
    }
   ],
   "source": [
    "s = {1, 2, 2, 3, 4, 4, 5}\n",
    "s"
   ]
  },
  {
   "cell_type": "markdown",
   "id": "a6f52cda",
   "metadata": {},
   "source": [
    "### Assignment 7: Subsets and Supersets\n",
    "\n",
    "#### Create two sets: one with the first 5 positive integers and another with the first 3 positive integers. Check if the second set is a subset of the first set and if the first set is a superset of the second set. Print the results.\n"
   ]
  },
  {
   "cell_type": "code",
   "execution_count": 15,
   "id": "61dc3ba5",
   "metadata": {},
   "outputs": [
    {
     "name": "stdout",
     "output_type": "stream",
     "text": [
      "True\n",
      "True\n"
     ]
    }
   ],
   "source": [
    "a = {1,5,7,8}\n",
    "b = {1,5,7,8,9,0}\n",
    "print(a.issubset(b))\n",
    "print(b.issuperset(a))"
   ]
  },
  {
   "cell_type": "markdown",
   "id": "b7ca20c0",
   "metadata": {},
   "source": [
    "### Assignment 8: Frozenset\n",
    "\n",
    "#### Create a frozenset with the first 5 positive integers. Print the frozenset."
   ]
  },
  {
   "cell_type": "code",
   "execution_count": 16,
   "id": "3917bdf3",
   "metadata": {},
   "outputs": [
    {
     "name": "stdout",
     "output_type": "stream",
     "text": [
      "frozenset({1, 2, 3, 4, 5})\n"
     ]
    }
   ],
   "source": [
    "frozenset1 = frozenset({1,2,3,4,5})\n",
    "print(frozenset1)"
   ]
  },
  {
   "cell_type": "markdown",
   "id": "4b1454f8",
   "metadata": {},
   "source": [
    "### Assignment 9: Set and List Conversion\n",
    "\n",
    "#### Create a set with the first 5 positive integers. Convert it to a list, append the number 6, and convert it back to a set. Print the resulting set."
   ]
  },
  {
   "cell_type": "code",
   "execution_count": 19,
   "id": "ffe6f34a",
   "metadata": {},
   "outputs": [
    {
     "name": "stdout",
     "output_type": "stream",
     "text": [
      "{1, 2, 3, 4, 5, 6}\n"
     ]
    }
   ],
   "source": [
    "set1 = {1,2,3,4,5}\n",
    "list1 = list(set1)\n",
    "list1.append(6)\n",
    "set1 = set(list1)\n",
    "print(set1)"
   ]
  },
  {
   "cell_type": "markdown",
   "id": "676b7fd9",
   "metadata": {},
   "source": [
    "### Assignment 10: Set and Dictionary\n",
    "\n",
    "#### Create a dictionary with set keys and integer values. Print the dictionary."
   ]
  },
  {
   "cell_type": "code",
   "execution_count": 22,
   "id": "0e61d5a5",
   "metadata": {},
   "outputs": [
    {
     "name": "stdout",
     "output_type": "stream",
     "text": [
      "{frozenset({1, 2}): 31, frozenset({4, 5}): 61}\n"
     ]
    }
   ],
   "source": [
    "dict1 = {\n",
    "    frozenset({1,2}): 31,\n",
    "    frozenset({4,5}): 61\n",
    "}\n",
    "print(dict1)"
   ]
  },
  {
   "cell_type": "markdown",
   "id": "95159d33",
   "metadata": {},
   "source": [
    "#### 💡 Tip\n",
    "\n",
    "- set → mutable → ❌ not usable as dict key\n",
    "\n",
    "- frozenset → immutable → ✅ usable as dict key"
   ]
  },
  {
   "cell_type": "markdown",
   "id": "49068278",
   "metadata": {},
   "source": [
    "### Assignment 11: Iterating Over Sets\n",
    "\n",
    "#### Create a set and iterate over the elements, printing each element."
   ]
  },
  {
   "cell_type": "code",
   "execution_count": 23,
   "id": "86fd9706",
   "metadata": {},
   "outputs": [
    {
     "name": "stdout",
     "output_type": "stream",
     "text": [
      "1\n",
      "2\n",
      "3\n",
      "4\n",
      "5\n"
     ]
    }
   ],
   "source": [
    "set3 = {1,2,3,4,5}\n",
    "for i in set3:\n",
    "    print(i)"
   ]
  },
  {
   "cell_type": "markdown",
   "id": "a0473b3a",
   "metadata": {},
   "source": [
    "### Assignment 12: Removing Elements from Sets\n",
    "\n",
    "#### Create a set and remove elements from it until it is empty. Print the set after each removal."
   ]
  },
  {
   "cell_type": "code",
   "execution_count": null,
   "id": "65e67242",
   "metadata": {},
   "outputs": [
    {
     "name": "stdout",
     "output_type": "stream",
     "text": [
      "{2, 3, 4, 5}\n",
      "{3, 4, 5}\n",
      "{4, 5}\n",
      "{5}\n",
      "set()\n"
     ]
    }
   ],
   "source": [
    "set4 = {1, 2, 3, 4, 5}\n",
    "\n",
    "while set4:  # loop runs as long as set4 is NOT empty\n",
    "    set4.pop()  # removes and returns an arbitrary element from the set\n",
    "    print(set4)"
   ]
  },
  {
   "cell_type": "markdown",
   "id": "ab011c6a",
   "metadata": {},
   "source": [
    "#### Explanation:\n",
    "1. while set4:\n",
    "\n",
    "In Python, a set is considered True if it has elements.\n",
    "\n",
    "The loop runs until set4 becomes empty.\n",
    "\n",
    "Once set4 is empty, it becomes False, and the loop stops.\n",
    "\n",
    "2. set4.pop()\n",
    "\n",
    "Removes a random (arbitrary) element from the set — sets are unordered, so you can’t control which one gets removed.\n",
    "\n",
    "Returns the removed element (but you’re not storing it here).\n",
    "\n",
    "3. print(set4)\n",
    "\n",
    "Shows the set after removing an element.\n",
    "\n"
   ]
  },
  {
   "cell_type": "markdown",
   "id": "368ced35",
   "metadata": {},
   "source": [
    "### Assignment 13: Set Symmetric Difference Update\n",
    "\n",
    "#### Create two sets and update the first set with the symmetric difference of the two sets. Print the modified first set."
   ]
  },
  {
   "cell_type": "code",
   "execution_count": 30,
   "id": "001bf706",
   "metadata": {},
   "outputs": [
    {
     "name": "stdout",
     "output_type": "stream",
     "text": [
      "{3, 4, 6, 7}\n"
     ]
    }
   ],
   "source": [
    "set1 = {1,2,6,7}\n",
    "set2 = {1,2,3,4}\n",
    "set1.symmetric_difference_update(set2)\n",
    "print(set1)"
   ]
  },
  {
   "cell_type": "code",
   "execution_count": 32,
   "id": "9f625f4c",
   "metadata": {},
   "outputs": [
    {
     "name": "stdout",
     "output_type": "stream",
     "text": [
      "{6, 7}\n"
     ]
    }
   ],
   "source": [
    "set1.difference_update(set2)\n",
    "print(set1)"
   ]
  },
  {
   "cell_type": "markdown",
   "id": "764dba33",
   "metadata": {},
   "source": [
    "### Assignment 14: Set Membership Testing\n",
    "\n",
    "Create a set and test if certain elements are present in the set. Print the results."
   ]
  },
  {
   "cell_type": "code",
   "execution_count": 33,
   "id": "bbc63857",
   "metadata": {},
   "outputs": [
    {
     "name": "stdout",
     "output_type": "stream",
     "text": [
      "False\n"
     ]
    }
   ],
   "source": [
    "set4 = {1,2,3}\n",
    "print(4 in set4)"
   ]
  },
  {
   "cell_type": "markdown",
   "id": "3c12ce1d",
   "metadata": {},
   "source": [
    "### Assignment 15: Set of Tuples\n",
    "\n",
    "#### Create a set containing tuples, where each tuple contains two elements. Print the set."
   ]
  },
  {
   "cell_type": "code",
   "execution_count": 34,
   "id": "31b9ce33",
   "metadata": {},
   "outputs": [
    {
     "name": "stdout",
     "output_type": "stream",
     "text": [
      "{(4, 5), (1, 2), (3, 4)}\n"
     ]
    }
   ],
   "source": [
    "set5 = {(1,2), (3,4), (4,5)}\n",
    "print(set5)"
   ]
  }
 ],
 "metadata": {
  "kernelspec": {
   "display_name": "Python 3",
   "language": "python",
   "name": "python3"
  },
  "language_info": {
   "codemirror_mode": {
    "name": "ipython",
    "version": 3
   },
   "file_extension": ".py",
   "mimetype": "text/x-python",
   "name": "python",
   "nbconvert_exporter": "python",
   "pygments_lexer": "ipython3",
   "version": "3.11.13"
  }
 },
 "nbformat": 4,
 "nbformat_minor": 5
}
