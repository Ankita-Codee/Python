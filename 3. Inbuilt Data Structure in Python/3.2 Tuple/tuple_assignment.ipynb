{
 "cells": [
  {
   "cell_type": "markdown",
   "id": "af97fbd8",
   "metadata": {},
   "source": [
    "# Module 3: Data Structures Assignments\n",
    "## Lesson 3.2: Tuples\n",
    "### Assignment 1: Creating and Accessing Tuples\n",
    "\n",
    "#### Create a tuple with the first 10 positive integers. Print the tuple."
   ]
  },
  {
   "cell_type": "code",
   "execution_count": 2,
   "id": "e0bdf361",
   "metadata": {},
   "outputs": [
    {
     "name": "stdout",
     "output_type": "stream",
     "text": [
      "(1, 2, 3, 4, 5, 6, 7, 8, 9, 10)\n"
     ]
    }
   ],
   "source": [
    "tuple_int = tuple(range(1,11))\n",
    "print(tuple_int)"
   ]
  },
  {
   "cell_type": "markdown",
   "id": "80ff2f52",
   "metadata": {},
   "source": [
    "### Assignment 2: Accessing Tuple Elements\n",
    "\n",
    "#### Print the first, middle, and last elements of the tuple created in Assignment 1.\n",
    "\n",
    "\n"
   ]
  },
  {
   "cell_type": "code",
   "execution_count": 3,
   "id": "ef3c20e6",
   "metadata": {},
   "outputs": [
    {
     "name": "stdout",
     "output_type": "stream",
     "text": [
      "First element: 1\n",
      "Middle element: 6\n",
      "Last element: 10\n"
     ]
    }
   ],
   "source": [
    "print(f\"First element: {tuple_int[0]}\")\n",
    "print(f\"Middle element: {tuple_int[len(tuple_int) // 2]}\")\n",
    "print(f\"Last element: {tuple_int[-1]}\")"
   ]
  },
  {
   "cell_type": "markdown",
   "id": "36fee6ac",
   "metadata": {},
   "source": [
    "### Assignment 3: Tuple Slicing\n",
    "\n",
    "#### Print the first three elements, the last three elements, and the elements from index 2 to 5 of the tuple created in Assignment 1.\n"
   ]
  },
  {
   "cell_type": "code",
   "execution_count": 4,
   "id": "8a386687",
   "metadata": {},
   "outputs": [
    {
     "name": "stdout",
     "output_type": "stream",
     "text": [
      "(1, 2, 3)\n",
      "(8, 9, 10)\n",
      "(3, 4, 5, 6)\n"
     ]
    }
   ],
   "source": [
    "print(tuple_int[:3])\n",
    "print(tuple_int[-3:])\n",
    "print(tuple_int[2:6])"
   ]
  },
  {
   "cell_type": "markdown",
   "id": "658a04fe",
   "metadata": {},
   "source": [
    "### Assignment 4: Nested Tuples\n",
    "\n",
    "#### Create a nested tuple representing a 3x3 matrix and print the matrix. Access and print the element at the second row and third column."
   ]
  },
  {
   "cell_type": "code",
   "execution_count": 6,
   "id": "d1fef874",
   "metadata": {},
   "outputs": [
    {
     "name": "stdout",
     "output_type": "stream",
     "text": [
      "((1, 2, 3), (4, 5, 6), (7, 8, 9))\n",
      "6\n"
     ]
    }
   ],
   "source": [
    "tuple_nested = (\n",
    "    (1, 2, 3),\n",
    "    (4, 5, 6),\n",
    "    (7, 8, 9)\n",
    ")\n",
    "\n",
    "print(tuple_nested)\n",
    "print(tuple_nested[1][2])  # Accessing the element at second row and third column"
   ]
  },
  {
   "cell_type": "markdown",
   "id": "8d165694",
   "metadata": {},
   "source": [
    "### Assignment 5: Tuple Concatenation\n",
    "\n",
    "#### Concatenate two tuples: (1, 2, 3) and (4, 5, 6). Print the resulting tuple."
   ]
  },
  {
   "cell_type": "code",
   "execution_count": 7,
   "id": "dd8a7bf6",
   "metadata": {},
   "outputs": [
    {
     "name": "stdout",
     "output_type": "stream",
     "text": [
      "(1, 2, 3, 4, 5, 6)\n"
     ]
    }
   ],
   "source": [
    "tuple1 = (1, 2, 3)\n",
    "tuple2 = (4, 5, 6)\n",
    "tuple_concat = tuple1 + tuple2\n",
    "print(tuple_concat)"
   ]
  },
  {
   "cell_type": "markdown",
   "id": "0b56d8c4",
   "metadata": {},
   "source": [
    "### Assignment 6: Tuple Methods\n",
    "\n",
    "#### Create a tuple with duplicate elements and count the occurrences of an element. Find the index of the first occurrence of an element in the tuple."
   ]
  },
  {
   "cell_type": "code",
   "execution_count": 11,
   "id": "61e4cd86",
   "metadata": {},
   "outputs": [
    {
     "name": "stdout",
     "output_type": "stream",
     "text": [
      "Count occurrences of 7 in tuple: 4\n",
      "Index of 7 when it occurs first time in tuple: 5\n"
     ]
    }
   ],
   "source": [
    "tuple3 = (1, 2, 3, 6, 6, 7, 8, 9, 7, 5, 7, 0, 7)\n",
    "print(f\"Count occurrences of 7 in tuple: {tuple3.count(7)}\")  # Count occurrences of 7\n",
    "print(f\"Index of 7 when it occurs first time in tuple: {tuple3.index(7)}\")  # Find index of first occurrence of 6"
   ]
  },
  {
   "cell_type": "markdown",
   "id": "aa972f61",
   "metadata": {},
   "source": [
    "### Assignment 7: Unpacking Tuples\n",
    "\n",
    "#### Create a tuple with 5 elements and unpack it into 5 variables. Print the variables."
   ]
  },
  {
   "cell_type": "code",
   "execution_count": 12,
   "id": "3fe5232f",
   "metadata": {},
   "outputs": [
    {
     "name": "stdout",
     "output_type": "stream",
     "text": [
      "Unpacked variables: 1, 2, 3, 4, 5\n"
     ]
    }
   ],
   "source": [
    "tuple4 = (1, 2, 3, 4, 5)\n",
    "a, b, c, d, e = tuple4\n",
    "print(f\"Unpacked variables: {a}, {b}, {c}, {d}, {e}\")"
   ]
  },
  {
   "cell_type": "markdown",
   "id": "f97eba0f",
   "metadata": {},
   "source": [
    "### Assignment 8: Tuple Conversion\n",
    "\n",
    "#### Convert a list of the first 5 positive integers to a tuple. Print the tuple."
   ]
  },
  {
   "cell_type": "code",
   "execution_count": 15,
   "id": "1215f165",
   "metadata": {},
   "outputs": [
    {
     "name": "stdout",
     "output_type": "stream",
     "text": [
      "(1, 2, 3, 4, 5)\n",
      "<class 'tuple'>\n"
     ]
    }
   ],
   "source": [
    "list_first_five_int = [1,2,3,4,5]\n",
    "tuple5 = tuple(list_first_five_int)\n",
    "print(tuple5)\n",
    "print(type(tuple5))"
   ]
  },
  {
   "cell_type": "markdown",
   "id": "876b21b6",
   "metadata": {},
   "source": [
    "### Assignment 9: Tuple of Tuples\n",
    "\n",
    "#### Create a tuple containing 3 tuples, each with 3 elements. Print the tuple of tuples."
   ]
  },
  {
   "cell_type": "code",
   "execution_count": 16,
   "id": "8a163452",
   "metadata": {},
   "outputs": [
    {
     "data": {
      "text/plain": [
       "((1, 2, 3), (4, 5, 6), (7, 8, 9))"
      ]
     },
     "execution_count": 16,
     "metadata": {},
     "output_type": "execute_result"
    }
   ],
   "source": [
    "tuple6 = (\n",
    "    (1,2,3),\n",
    "    (4,5,6),\n",
    "    (7,8,9)\n",
    ")\n",
    "tuple6"
   ]
  },
  {
   "cell_type": "markdown",
   "id": "09878538",
   "metadata": {},
   "source": [
    "### Assignment 10: Tuple and List\n",
    "\n",
    "#### Create a tuple with the first 5 positive integers. Convert it to a list, append the number 6, and convert it back to a tuple. Print the resulting tuple."
   ]
  },
  {
   "cell_type": "code",
   "execution_count": 17,
   "id": "1b42c50d",
   "metadata": {},
   "outputs": [
    {
     "name": "stdout",
     "output_type": "stream",
     "text": [
      "(1, 2, 3, 4, 5, 6)\n"
     ]
    }
   ],
   "source": [
    "tuple7 = (1,2,3,4,5)\n",
    "list7 = list(tuple7)\n",
    "list7.append(6)\n",
    "tuple7 = tuple(list7)\n",
    "print(tuple7)"
   ]
  },
  {
   "cell_type": "markdown",
   "id": "2a35a62e",
   "metadata": {},
   "source": [
    "### Assignment 11: Tuple and String\n",
    "\n",
    "#### Create a tuple with the characters of a string. Join the tuple elements into a single string. Print the string.\n"
   ]
  },
  {
   "cell_type": "code",
   "execution_count": 19,
   "id": "32a5c704",
   "metadata": {},
   "outputs": [
    {
     "name": "stdout",
     "output_type": "stream",
     "text": [
      "('Hi', 'How', 'are', 'you', '?')\n",
      "Hi How are you ?\n"
     ]
    }
   ],
   "source": [
    "tuple8 = (\"Hi\", \"How\", \"are\", \"you\", \"?\")\n",
    "print(tuple8)\n",
    "joined_string = \" \".join(tuple8)\n",
    "print(joined_string)"
   ]
  },
  {
   "cell_type": "markdown",
   "id": "6630b4ef",
   "metadata": {},
   "source": [
    "### Summary of `.join()` in Python\n",
    "\n",
    "#### What `.join()` Does\n",
    "- **Purpose:** Combines elements of an **iterable** (e.g., list, tuple, set, dictionary) into a single string.\n",
    "- **Rule:** All elements must be **strings**.\n",
    "- **Called on:** A string (used as the separator).\n",
    "\n",
    "---\n",
    "\n",
    "#### Examples\n",
    "\n",
    "```python\n",
    "# Joining a list\n",
    "words = [\"Python\", \"is\", \"fun\"]\n",
    "\" \".join(words)  \n",
    "# Output: \"Python is fun\"\n",
    "\n",
    "# Joining a tuple\n",
    "letters = ('H', 'i')\n",
    "\"\".join(letters)  \n",
    "# Output: \"Hi\"\n",
    "\n",
    "# Joining a set\n",
    "fruits = {\"apple\", \"banana\"}\n",
    "\", \".join(fruits)  \n",
    "# Output: \"banana, apple\" (order may vary)\n",
    "\n",
    "# Joining dictionary keys\n",
    "data = {\"name\": \"John\", \"age\": \"30\"}\n",
    "\" & \".join(data)  \n",
    "# Output: \"name & age\"\n",
    "\n",
    "# Joining non-strings (convert first)\n",
    "nums = [1, 2, 3]\n",
    "\"\".join(str(n) for n in nums)  \n",
    "# Output: \"123\"\n"
   ]
  },
  {
   "cell_type": "markdown",
   "id": "b269c47b",
   "metadata": {},
   "source": [
    "### Assignment 12: Tuple and Dictionary\n",
    "\n",
    "#### Create a dictionary with tuple keys and integer values. Print the dictionary."
   ]
  },
  {
   "cell_type": "code",
   "execution_count": 20,
   "id": "a1a5d5f7",
   "metadata": {},
   "outputs": [
    {
     "name": "stdout",
     "output_type": "stream",
     "text": [
      "{('a', 'b'): 1, ('c', 'd'): 2, ('e', 'f'): 3}\n"
     ]
    }
   ],
   "source": [
    "tupl_dict = {\n",
    "    (\"a\", \"b\"): 1,\n",
    "    (\"c\", \"d\"): 2,\n",
    "    (\"e\", \"f\"): 3\n",
    "}\n",
    "print(tupl_dict)"
   ]
  },
  {
   "cell_type": "markdown",
   "id": "88c988ba",
   "metadata": {},
   "source": [
    "### Assignment 13: Nested Tuple Iteration\n",
    "\n",
    "#### Create a nested tuple and iterate over the elements, printing each element.\n"
   ]
  },
  {
   "cell_type": "code",
   "execution_count": 22,
   "id": "33313463",
   "metadata": {},
   "outputs": [
    {
     "name": "stdout",
     "output_type": "stream",
     "text": [
      "1\n",
      "2\n",
      "3\n",
      "4\n",
      "5\n",
      "6\n",
      "7\n",
      "8\n",
      "9\n"
     ]
    }
   ],
   "source": [
    "tuple6 = (\n",
    "    (1,2,3),\n",
    "    (4,5,6),\n",
    "    (7,8,9)\n",
    ")\n",
    "\n",
    "for row in tuple6:\n",
    "    for item in row:\n",
    "        print(item)"
   ]
  },
  {
   "cell_type": "markdown",
   "id": "f13abac0",
   "metadata": {},
   "source": [
    "### Assignment 14: Tuple and Set\n",
    "\n",
    "#### Create a tuple with duplicate elements. Convert it to a set to remove duplicates and print the resulting set.\n"
   ]
  },
  {
   "cell_type": "code",
   "execution_count": 24,
   "id": "bada53d5",
   "metadata": {},
   "outputs": [
    {
     "name": "stdout",
     "output_type": "stream",
     "text": [
      "(1, 1, 1, 1, 2, 3, 3, 4, 5, 7, 8, 8, 9, 10)\n",
      "{1, 2, 3, 4, 5, 7, 8, 9, 10}\n"
     ]
    }
   ],
   "source": [
    "tuple8 = (1,1,1,1,2,3,3,4,5,7,8,8,9,10)\n",
    "print(tuple8)\n",
    "set8 = set(tuple8)\n",
    "print(set8)"
   ]
  },
  {
   "cell_type": "markdown",
   "id": "f6c81ee4",
   "metadata": {},
   "source": [
    "### Assignment 15: Tuple Functions\n",
    "\n",
    "#### Write functions that take a tuple and return the minimum, maximum, and sum of the elements. Print the results for a sample tuple."
   ]
  },
  {
   "cell_type": "code",
   "execution_count": 26,
   "metadata": {},
   "outputs": [
    {
     "name": "stdout",
     "output_type": "stream",
     "text": [
      "Maximum from tuple 9, Minimum from tuple: 0, Sum of elements of the tuple: 45\n"
     ]
    }
   ],
   "source": [
    "def stat_function(tuple9):\n",
    "    return f\"Maximum from tuple {max(tuple9)}, Minimum from tuple: {min(tuple9)}, Sum of elements of the tuple: {sum(tuple9)}\"\n",
    "\n",
    "tuple9 = tuple(range(10))\n",
    "print(stat_function(tuple9))"
   ]
  }
 ],
 "metadata": {
  "kernelspec": {
   "display_name": "Python 3",
   "language": "python",
   "name": "python3"
  },
  "language_info": {
   "codemirror_mode": {
    "name": "ipython",
    "version": 3
   },
   "file_extension": ".py",
   "mimetype": "text/x-python",
   "name": "python",
   "nbconvert_exporter": "python",
   "pygments_lexer": "ipython3",
   "version": "3.11.13"
  }
 },
 "nbformat": 4,
 "nbformat_minor": 5
}
