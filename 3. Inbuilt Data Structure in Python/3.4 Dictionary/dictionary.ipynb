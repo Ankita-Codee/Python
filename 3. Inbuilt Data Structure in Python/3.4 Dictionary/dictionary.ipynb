{
 "cells": [
  {
   "cell_type": "markdown",
   "id": "b0f01909",
   "metadata": {},
   "source": [
    "# Module 3: Data Structures Assignments\n",
    "## Lesson 3.4: Dictionaries\n",
    "### Assignment 1: Creating and Accessing Dictionaries\n",
    "\n",
    "### Create a dictionary with the first 10 positive integers as keys and their squares as values. Print the dictionary."
   ]
  },
  {
   "cell_type": "code",
   "execution_count": 1,
   "id": "c78cfc49",
   "metadata": {},
   "outputs": [
    {
     "name": "stdout",
     "output_type": "stream",
     "text": [
      "{1: 1, 2: 4, 3: 9, 4: 16, 5: 25, 6: 36, 7: 49, 8: 64, 9: 81, 10: 100}\n"
     ]
    }
   ],
   "source": [
    "dict1 = {x: x**2 for x in range(1,11)}\n",
    "print(dict1)"
   ]
  },
  {
   "cell_type": "markdown",
   "id": "06828502",
   "metadata": {},
   "source": [
    "### Assignment 2: Accessing Dictionary Elements\n",
    "\n",
    "### Print the value of the key 5 and the keys of the dictionary created in Assignment 1."
   ]
  },
  {
   "cell_type": "code",
   "execution_count": 3,
   "id": "aa3053da",
   "metadata": {},
   "outputs": [
    {
     "name": "stdout",
     "output_type": "stream",
     "text": [
      "25\n",
      "dict_keys([1, 2, 3, 4, 5, 6, 7, 8, 9, 10])\n"
     ]
    }
   ],
   "source": [
    "print(dict1[5])\n",
    "print(dict1.keys())"
   ]
  },
  {
   "cell_type": "markdown",
   "id": "d5c6fa22",
   "metadata": {},
   "source": [
    "### Assignment 3: Dictionary Methods\n",
    "\n",
    "### Add a new key-value pair (11, 121) to the dictionary created in Assignment 1 and then remove the key-value pair with key 1. Print the modified dictionary."
   ]
  },
  {
   "cell_type": "code",
   "execution_count": 5,
   "id": "38aa5c3c",
   "metadata": {},
   "outputs": [
    {
     "name": "stdout",
     "output_type": "stream",
     "text": [
      "{2: 4, 3: 9, 4: 16, 5: 25, 6: 36, 7: 49, 8: 64, 9: 81, 10: 100, 11: 121}\n"
     ]
    }
   ],
   "source": [
    "dict1[11] = 121\n",
    "dict1.pop(1)\n",
    "print(dict1)"
   ]
  },
  {
   "cell_type": "markdown",
   "id": "6b098763",
   "metadata": {},
   "source": [
    "### Assignment 4: Iterating Over Dictionaries\n",
    "\n",
    "### Iterate over the dictionary created in Assignment 1 and print each key-value pair."
   ]
  },
  {
   "cell_type": "code",
   "execution_count": 8,
   "id": "d094fb92",
   "metadata": {},
   "outputs": [
    {
     "name": "stdout",
     "output_type": "stream",
     "text": [
      "2: 4\n",
      "3: 9\n",
      "4: 16\n",
      "5: 25\n",
      "6: 36\n",
      "7: 49\n",
      "8: 64\n",
      "9: 81\n",
      "10: 100\n",
      "11: 121\n"
     ]
    }
   ],
   "source": [
    "for key,value in dict1.items():\n",
    "    print(f\"{key}: {value}\")"
   ]
  },
  {
   "cell_type": "markdown",
   "id": "50a905e1",
   "metadata": {},
   "source": [
    "### Assignment 5: Dictionary Comprehensions\n",
    "\n",
    "### Create a new dictionary containing the cubes of the first 10 positive integers using a dictionary comprehension. Print the new dictionary."
   ]
  },
  {
   "cell_type": "code",
   "execution_count": 9,
   "id": "b950f47a",
   "metadata": {},
   "outputs": [
    {
     "name": "stdout",
     "output_type": "stream",
     "text": [
      "{1: 1, 2: 8, 3: 27, 4: 64, 5: 125, 6: 216, 7: 343, 8: 512, 9: 729, 10: 1000}\n"
     ]
    }
   ],
   "source": [
    "dict2 = {x: x**3 for x in range(1,11)}\n",
    "print(dict2)"
   ]
  },
  {
   "cell_type": "markdown",
   "id": "03a5bc65",
   "metadata": {},
   "source": [
    "### Assignment 6: Merging Dictionaries\n",
    "\n",
    "### Create two dictionaries: one with keys as the first 5 positive integers and values as their squares, and another with keys as the next 5 positive integers and values as their squares. Merge these dictionaries into a single dictionary and print it."
   ]
  },
  {
   "cell_type": "code",
   "execution_count": 11,
   "id": "14bb7cf7",
   "metadata": {},
   "outputs": [
    {
     "name": "stdout",
     "output_type": "stream",
     "text": [
      "{1: 1, 2: 4, 3: 9, 4: 16, 5: 25, 6: 36, 7: 49, 8: 64, 9: 81, 10: 100}\n",
      "{1: 1, 2: 4, 3: 9, 4: 16, 5: 25, 6: 36, 7: 49, 8: 64, 9: 81, 10: 100}\n",
      "{1: 1, 2: 4, 3: 9, 4: 16, 5: 25, 6: 36, 7: 49, 8: 64, 9: 81, 10: 100}\n"
     ]
    }
   ],
   "source": [
    "dict1 = {x: x**2 for x in range(1,6)}\n",
    "dict2 = {x: x**2 for x in range(6,11)}\n",
    "\n",
    "# 1. Using Unpacking (**) — Python 3.5+\n",
    "dict_merged = {**dict1, **dict2}\n",
    "print(dict_merged)\n",
    "\n",
    "# 2. Using .update() Method\n",
    "dict1.update(dict2)\n",
    "print(dict1)   # dict1 is modified in place\n",
    "\n",
    "# 3. Using the | Operator — Python 3.9+\n",
    "dict_merged = dict1 | dict2\n",
    "print(dict_merged)\n"
   ]
  },
  {
   "cell_type": "markdown",
   "id": "9f77e37e",
   "metadata": {},
   "source": [
    "`{**dict1}` uses dictionary unpacking to create a **shallow copy** of `dict1` by inserting all its key–value pairs into a new dictionary.  \n",
    "Example:  \n",
    "```python\n",
    "dict1 = {1: 'a', 2: 'b'}\n",
    "new_dict = {**dict1}  # {1: 'a', 2: 'b'}"
   ]
  },
  {
   "cell_type": "markdown",
   "id": "fe862f0c",
   "metadata": {},
   "source": [
    "#### Merging Dictionaries in Python\n",
    "\n",
    "In Python, you **cannot** directly merge dictionaries using the `+` operator.  \n",
    "For example:\n",
    "\n",
    "```python\n",
    "dict1 = {x: x**2 for x in range(1, 6)}\n",
    "dict2 = {x: x**2 for x in range(6, 11)}\n",
    "dict_merged = dict1 + dict2   # ❌ This will raise an error\n"
   ]
  },
  {
   "cell_type": "markdown",
   "id": "f1545b99",
   "metadata": {},
   "source": [
    "### Assignment 7: Nested Dictionaries\n",
    "\n",
    "### Create a nested dictionary representing a student with keys 'name', 'age', 'grades', where 'grades' is another dictionary with keys 'math', 'science', and 'english'. Print the nested dictionary."
   ]
  },
  {
   "cell_type": "code",
   "execution_count": 21,
   "id": "3d4cdfc8",
   "metadata": {},
   "outputs": [
    {
     "name": "stdout",
     "output_type": "stream",
     "text": [
      "{'name': 'Kiran', 'age': 18, 'grades': {'math': 60, 'science': 78, 'English': 90}}\n"
     ]
    }
   ],
   "source": [
    "student = {\n",
    "    \"name\": \"Kiran\",\n",
    "    \"age\": 18,\n",
    "    \"grades\": {\"math\": 60, \"science\": 78, \"English\": 90}\n",
    "}\n",
    "print(student)"
   ]
  },
  {
   "cell_type": "markdown",
   "id": "fb33c466",
   "metadata": {},
   "source": [
    "### Assignment 8: Dictionary of Lists\n",
    "\n",
    "### Create a dictionary where the keys are the first 5 positive integers and the values are lists containing the first 5 multiples of the key. Print the dictionary."
   ]
  },
  {
   "cell_type": "code",
   "execution_count": 22,
   "id": "40d71158",
   "metadata": {},
   "outputs": [
    {
     "name": "stdout",
     "output_type": "stream",
     "text": [
      "{1: [1, 2, 3, 4, 5], 2: [2, 4, 6, 8, 10], 3: [3, 6, 9, 12, 15], 4: [4, 8, 12, 16, 20], 5: [5, 10, 15, 20, 25]}\n"
     ]
    }
   ],
   "source": [
    "dict1 = {i : [i*j for j in range(1,6)] for i in range(1,6)}\n",
    "print(dict1)"
   ]
  },
  {
   "cell_type": "markdown",
   "id": "22dd7e0c",
   "metadata": {},
   "source": [
    "- In Python comprehensions, the concept of <span style=\"color:red;\">inner</span> and <span style=\"color:green;\">outer</span> loops depends on - structure. In a list comprehension with multiple <span style=\"color:orange;\">`for`</span> clauses, e.g., <span style=\"color:red;\">`[item for sublist in list for item in sublist]`</span>, the loops are sequential left-to-right: the first <span style=\"color:orange;\">`for`</span> is the <span style=\"color:green;\">outer loop</span>, iterating over sublists, and the second <span style=\"color:orange;\">`for`</span> is the <span style=\"color:red;\">inner loop</span>, iterating over items in each sublist. \n",
    "\n",
    "- In a dictionary comprehension with a nested list comprehension, e.g., <span style=\"color:red;\">`{i: [i * j for j in range(1, 6)] for i in range(1, 6)}`</span>, the <span style=\"color:green;\">outer loop</span> runs first to define dictionary keys (<span style=\"color:red;\">`i`</span>), and the <span style=\"color:red;\">inner loop</span> inside the list comprehension runs for each outer iteration to generate the values. Thus, left-to-right order applies for multiple <span style=\"color:orange;\">`for`</span>s in a single comprehension, while nesting determines <span style=\"color:green;\">outer</span> vs <span style=\"color:red;\">inner</span> in nested comprehensions.\n"
   ]
  },
  {
   "cell_type": "markdown",
   "id": "fd3c3395",
   "metadata": {},
   "source": [
    "### Assignment 9: Dictionary of Tuples\n",
    "\n",
    "### Create a dictionary where the keys are the first 5 positive integers and the values are tuples containing the key and its square. Print the dictionary."
   ]
  },
  {
   "cell_type": "code",
   "execution_count": 23,
   "id": "9b1b854f",
   "metadata": {},
   "outputs": [
    {
     "name": "stdout",
     "output_type": "stream",
     "text": [
      "{1: (1, 1), 2: (2, 4), 3: (3, 9), 4: (4, 16), 5: (5, 25)}\n"
     ]
    }
   ],
   "source": [
    "dict1 = {i: (i, i**2) for i in range(1,6)}\n",
    "print(dict1)"
   ]
  },
  {
   "cell_type": "markdown",
   "id": "c8051f41",
   "metadata": {},
   "source": [
    "### Assignment 10: Dictionary and List Conversion\n",
    "\n",
    "### Create a dictionary with the first 5 positive integers as keys and their squares as values. Convert the dictionary to a list of tuples and print it."
   ]
  },
  {
   "cell_type": "code",
   "execution_count": 20,
   "id": "f8cf6479",
   "metadata": {},
   "outputs": [
    {
     "data": {
      "text/plain": [
       "dict_items([(1, 'a'), (2, 'b')])"
      ]
     },
     "execution_count": 20,
     "metadata": {},
     "output_type": "execute_result"
    }
   ],
   "source": [
    "dict1 = {1: 'a', 2: 'b'}\n",
    "dict1.items()  # dict_items([(1, 'a'), (2, 'b')])"
   ]
  },
  {
   "cell_type": "code",
   "execution_count": 19,
   "id": "6f75d573",
   "metadata": {},
   "outputs": [
    {
     "name": "stdout",
     "output_type": "stream",
     "text": [
      "{1: 1, 2: 4, 3: 9, 4: 16, 5: 25}\n",
      "[(1, 1), (2, 4), (3, 9), (4, 16), (5, 25)]\n"
     ]
    }
   ],
   "source": [
    "dict1 = {i: (i**2) for i in range(1,6)}\n",
    "print(dict1)\n",
    "list1 = list(dict1.items())\n",
    "print(list1)"
   ]
  },
  {
   "cell_type": "markdown",
   "id": "a4b3717b",
   "metadata": {},
   "source": [
    "Since dict1.items() returns a view (iterable of tuples), list(dict1.items()) converts it into a list of tuples."
   ]
  },
  {
   "cell_type": "markdown",
   "id": "ff1c64c8",
   "metadata": {},
   "source": [
    "### Assignment 11: Dictionary Filtering\n",
    "\n",
    "### Create a dictionary with the first 10 positive integers as keys and their squares as values. Create a new dictionary containing only the key-value pairs where the key is even. Print the new dictionary."
   ]
  },
  {
   "cell_type": "code",
   "execution_count": 32,
   "id": "ea86c419",
   "metadata": {},
   "outputs": [
    {
     "name": "stdout",
     "output_type": "stream",
     "text": [
      "{1: 1, 2: 4, 3: 9, 4: 16, 5: 25, 6: 36, 7: 49, 8: 64, 9: 81, 10: 100}\n",
      "{2: 4, 4: 16, 6: 36, 8: 64, 10: 100}\n"
     ]
    }
   ],
   "source": [
    "dict1 = {i: i**2 for i in range(1,11)}\n",
    "print(dict1)\n",
    "dict2 = {k: v for k,v  in dict1.items() if k%2==0}\n",
    "print(dict2)"
   ]
  },
  {
   "cell_type": "markdown",
   "id": "3fa7dbec",
   "metadata": {},
   "source": [
    "### Assignment 12: Dictionary Key and Value Transformation\n",
    "\n",
    "### Create a dictionary with the first 5 positive integers as keys and their squares as values. Create a new dictionary with keys and values swapped. Print the new dictionary."
   ]
  },
  {
   "cell_type": "code",
   "execution_count": 31,
   "id": "cb69e3de",
   "metadata": {},
   "outputs": [
    {
     "name": "stdout",
     "output_type": "stream",
     "text": [
      "{1: 1, 2: 4, 3: 9, 4: 16, 5: 25}\n",
      "{1: 1, 4: 2, 9: 3, 16: 4, 25: 5}\n"
     ]
    }
   ],
   "source": [
    "dict1 = {i: i**2 for i in range(1,6)}\n",
    "print(dict1)\n",
    "dict2 = {v: k for k,v  in dict1.items()}\n",
    "print(dict2)"
   ]
  },
  {
   "cell_type": "markdown",
   "id": "906dacc9",
   "metadata": {},
   "source": [
    "### Assignment 13: Default Dictionary\n",
    "\n",
    "### Create a default dictionary where each key has a default value of an empty list. Add some elements to the lists and print the dictionary."
   ]
  },
  {
   "cell_type": "code",
   "execution_count": 35,
   "id": "0d35f124",
   "metadata": {},
   "outputs": [
    {
     "name": "stdout",
     "output_type": "stream",
     "text": [
      "defaultdict(<class 'list'>, {'a': [1, 2], 'b': [3]})\n"
     ]
    }
   ],
   "source": [
    "from collections import defaultdict\n",
    "\n",
    "default_dict = defaultdict(list)\n",
    "default_dict['a'].append(1)\n",
    "default_dict['a'].append(2)\n",
    "default_dict['b'].append(3)\n",
    "print(default_dict)\n"
   ]
  },
  {
   "cell_type": "markdown",
   "id": "17e73e7e",
   "metadata": {},
   "source": [
    "defaultdict(list):\n",
    "defaultdict is a subclass of Python’s standard dict.\n",
    "\n",
    "It automatically assigns a default value for keys that don’t exist yet.\n",
    "\n",
    "defaultdict(list) means any new key will automatically have an empty list [] as its value.\n",
    "\n",
    "'a' is not in the dictionary yet → defaultdict creates 'a': [].\n",
    "\n",
    "Then .append(1) adds 1 → 'a': [1]\n",
    "\n",
    "Next .append(2) → 'a': [1, 2]\n",
    "\n",
    "'b' is new → automatically gets []\n",
    "\n",
    "Append 3 → 'b': [3]\n",
    "\n",
    "\n"
   ]
  },
  {
   "cell_type": "markdown",
   "id": "398d5902",
   "metadata": {},
   "source": [
    "### Assignment 14: Counting with Dictionaries\n",
    "\n",
    "### Write a function that takes a string and returns a dictionary with the count of each character in the string. Print the dictionary."
   ]
  },
  {
   "cell_type": "code",
   "execution_count": 39,
   "id": "2cc516f7",
   "metadata": {},
   "outputs": [
    {
     "name": "stdout",
     "output_type": "stream",
     "text": [
      "{'h': 1, 'e': 1, 'l': 3, 'o': 2, ' ': 1, 'w': 1, 'r': 1, 'd': 1}\n"
     ]
    }
   ],
   "source": [
    "def count_chars(s):\n",
    "    count_dict = {}\n",
    "    for char in s:\n",
    "        count_dict[char] = count_dict.get(char, 0) + 1\n",
    "    return count_dict\n",
    "\n",
    "string = \"hello world\"\n",
    "print(count_chars(string))"
   ]
  },
  {
   "cell_type": "markdown",
   "id": "00588bea",
   "metadata": {},
   "source": [
    "### Assignment 15: Dictionary and JSON\n",
    "\n",
    "### Create a dictionary representing a book with keys 'title', 'author', 'year', and 'genre'. Convert the dictionary to a JSON string and print it."
   ]
  },
  {
   "cell_type": "code",
   "execution_count": 40,
   "id": "cfd0173c",
   "metadata": {},
   "outputs": [
    {
     "name": "stdout",
     "output_type": "stream",
     "text": [
      "{\"title\": \"Shyamchi Aai\", \"author\": \"Sane Guruji\", \"year\": 1930, \"genre\": \"Autobiography\"}\n"
     ]
    }
   ],
   "source": [
    "import json\n",
    "\n",
    "book = {\n",
    "    'title': 'Shyamchi Aai',\n",
    "    'author': 'Sane Guruji',\n",
    "    'year': 1930,\n",
    "    'genre': 'Autobiography'\n",
    "}\n",
    "\n",
    "book_json = json.dumps(book)\n",
    "print(book_json)\n"
   ]
  },
  {
   "cell_type": "code",
   "execution_count": null,
   "id": "e19872c6",
   "metadata": {},
   "outputs": [],
   "source": []
  }
 ],
 "metadata": {
  "kernelspec": {
   "display_name": "Python 3",
   "language": "python",
   "name": "python3"
  },
  "language_info": {
   "codemirror_mode": {
    "name": "ipython",
    "version": 3
   },
   "file_extension": ".py",
   "mimetype": "text/x-python",
   "name": "python",
   "nbconvert_exporter": "python",
   "pygments_lexer": "ipython3",
   "version": "3.11.13"
  }
 },
 "nbformat": 4,
 "nbformat_minor": 5
}
