{
 "cells": [
  {
   "cell_type": "markdown",
   "id": "1c79d97f",
   "metadata": {},
   "source": [
    "# Module 3: Data Structures Assignments\n",
    "## Lesson 3.1: Lists\n",
    "### Assignment 1: Creating and Accessing Lists\n",
    "\n",
    "#### Create a list of the first 20 positive integers. Print the list.\n"
   ]
  },
  {
   "cell_type": "code",
   "execution_count": 1,
   "id": "240f06a6",
   "metadata": {},
   "outputs": [
    {
     "name": "stdout",
     "output_type": "stream",
     "text": [
      "[1, 2, 3, 4, 5, 6, 7, 8, 9, 10, 11, 12, 13, 14, 15, 16, 17, 18, 19, 20]\n"
     ]
    }
   ],
   "source": [
    "list1 = [x for x in range(1,21)]\n",
    "print(list1)"
   ]
  },
  {
   "cell_type": "code",
   "execution_count": 2,
   "id": "3c971fe1",
   "metadata": {},
   "outputs": [
    {
     "name": "stdout",
     "output_type": "stream",
     "text": [
      "[1, 2, 3, 4, 5, 6, 7, 8, 9, 10, 11, 12, 13, 14, 15, 16, 17, 18, 19, 20]\n"
     ]
    }
   ],
   "source": [
    "list2 = list(range(1,21))\n",
    "print(list2)"
   ]
  },
  {
   "cell_type": "markdown",
   "id": "d49a8a5b",
   "metadata": {},
   "source": [
    "### Assignment 2: Accessing List Elements\n",
    "\n",
    "#### Print the first, middle, and last elements of the list created in Assignment 1."
   ]
  },
  {
   "cell_type": "code",
   "execution_count": 3,
   "id": "e4260834",
   "metadata": {},
   "outputs": [
    {
     "name": "stdout",
     "output_type": "stream",
     "text": [
      "First element: 1, Middle element: 11, Last element: 20\n"
     ]
    }
   ],
   "source": [
    "first_element = list1[0]\n",
    "middle_element = list1[len(list1)//2]\n",
    "last_element = list1[-1]\n",
    "\n",
    "print(f'First element: {first_element}, Middle element: {middle_element}, Last element: {last_element}')"
   ]
  },
  {
   "cell_type": "markdown",
   "id": "cb6a651f",
   "metadata": {},
   "source": [
    "### Assignment 3: List Slicing\n",
    "\n",
    "#### Print the first five elements, the last five elements, and the elements from index 5 to 15 of the list created in Assignment 1."
   ]
  },
  {
   "cell_type": "code",
   "execution_count": 4,
   "id": "2558b20f",
   "metadata": {},
   "outputs": [
    {
     "name": "stdout",
     "output_type": "stream",
     "text": [
      "First five elements: [1, 2, 3, 4, 5], Elements from index 5 to 15: [6, 7, 8, 9, 10, 11, 12, 13, 14, 15, 16], Last five elements: [16, 17, 18, 19, 20]\n"
     ]
    }
   ],
   "source": [
    "first_five_elemnents = list1[:5]\n",
    "elements_from_5_to_15 = list1[5:16]\n",
    "last_five_elements = list1[-5:]\n",
    "\n",
    "print(f'First five elements: {first_five_elemnents}, Elements from index 5 to 15: {elements_from_5_to_15}, Last five elements: {last_five_elements}')"
   ]
  },
  {
   "cell_type": "markdown",
   "id": "3e5b4a7b",
   "metadata": {},
   "source": [
    "### Assignment 4: List Comprehensions\n",
    "\n",
    "#### Create a new list containing the squares of the first 10 positive integers using a list comprehension. Print the new list."
   ]
  },
  {
   "cell_type": "code",
   "execution_count": 5,
   "id": "e3a0e96a",
   "metadata": {},
   "outputs": [
    {
     "name": "stdout",
     "output_type": "stream",
     "text": [
      "Squares of the first 10 positive integers: [1, 4, 9, 16, 25, 36, 49, 64, 81, 100]\n"
     ]
    }
   ],
   "source": [
    "list_squares = [x**2 for x in range(1,11)]\n",
    "print(f'Squares of the first 10 positive integers: {list_squares}')"
   ]
  },
  {
   "cell_type": "markdown",
   "id": "591290f5",
   "metadata": {},
   "source": [
    "### Assignment 5: Filtering Lists\n",
    "\n",
    "#### Create a new list containing only the even numbers from the list created in Assignment 4 using a list comprehension. Print the new list."
   ]
  },
  {
   "cell_type": "code",
   "execution_count": 6,
   "id": "036333ee",
   "metadata": {},
   "outputs": [
    {
     "name": "stdout",
     "output_type": "stream",
     "text": [
      "Even squares from the list: [4, 16, 36, 64, 100]\n"
     ]
    }
   ],
   "source": [
    "list_even_squares = [x for x in list_squares if x % 2 == 0]\n",
    "print(f'Even squares from the list: {list_even_squares}')"
   ]
  },
  {
   "cell_type": "markdown",
   "id": "81566c2e",
   "metadata": {},
   "source": [
    "### Assignment 6: List Methods\n",
    "\n",
    "#### Create a list of random numbers and sort it in ascending and descending order. Remove the duplicates from the list and print the modified list."
   ]
  },
  {
   "cell_type": "code",
   "execution_count": 8,
   "id": "ceb184bc",
   "metadata": {},
   "outputs": [
    {
     "data": {
      "text/plain": [
       "6"
      ]
     },
     "execution_count": 8,
     "metadata": {},
     "output_type": "execute_result"
    }
   ],
   "source": [
    "import random\n",
    "random.randint(1,20)"
   ]
  },
  {
   "cell_type": "code",
   "execution_count": null,
   "id": "89aeb59f",
   "metadata": {},
   "outputs": [
    {
     "data": {
      "text/plain": [
       "[20, 33, 5, 18, 27, 27, 10, 3, 39, 14, 39, 26, 40, 21, 4]"
      ]
     },
     "execution_count": 12,
     "metadata": {},
     "output_type": "execute_result"
    }
   ],
   "source": [
    "random_numbers = [random.randint(1, 50) for _ in range(15)]\n",
    "random_numbers"
   ]
  },
  {
   "cell_type": "markdown",
   "id": "9c0a643b",
   "metadata": {},
   "source": [
    "#### Explanation:\n",
    "- random.randint(1, 50)\n",
    "This function generates a random integer between 1 and 50 (both inclusive).\n",
    "\n",
    "- for _ in range(15)\n",
    "This is a for loop that runs 15 times. The underscore _ is a common convention for a variable name when the variable itself is not used — it's just a placeholder.\n",
    "\n",
    "- [ ... for _ in range(15)]\n",
    "This is a list comprehension, which is a concise way to create a list by repeating the expression inside the brackets for each iteration in the loop."
   ]
  },
  {
   "cell_type": "code",
   "execution_count": 11,
   "id": "513f4fc0",
   "metadata": {},
   "outputs": [
    {
     "name": "stdout",
     "output_type": "stream",
     "text": [
      "0\n",
      "1\n",
      "2\n",
      "3\n",
      "4\n",
      "5\n",
      "6\n",
      "7\n",
      "8\n",
      "9\n",
      "10\n",
      "11\n",
      "12\n",
      "13\n",
      "14\n"
     ]
    }
   ],
   "source": [
    "for _ in range(15):\n",
    "    print(_)"
   ]
  },
  {
   "cell_type": "code",
   "execution_count": 13,
   "id": "d39f8dd4",
   "metadata": {},
   "outputs": [
    {
     "name": "stdout",
     "output_type": "stream",
     "text": [
      "Random numbers: [13, 13, 19, 1, 9, 6, 1, 17, 20, 18, 16, 19, 19, 13, 20]\n",
      "Sorted in ascending order: [1, 1, 6, 9, 13, 13, 13, 16, 17, 18, 19, 19, 19, 20, 20]\n",
      "Sorted in descending order: [20, 20, 19, 19, 19, 18, 17, 16, 13, 13, 13, 9, 6, 1, 1]\n",
      "List after removing duplicates: [1, 6, 9, 13, 16, 17, 18, 19, 20]\n"
     ]
    }
   ],
   "source": [
    "import random\n",
    "\n",
    "random_numbers = [random.randint(1,20) for _ in range(15)]\n",
    "asc_list = sorted(random_numbers)\n",
    "desc_list = sorted(random_numbers, reverse=True)\n",
    "unique_list = list(set(random_numbers))\n",
    "print(f'Random numbers: {random_numbers}')\n",
    "print(f'Sorted in ascending order: {asc_list}')\n",
    "print(f'Sorted in descending order: {desc_list}')\n",
    "print(f'List after removing duplicates: {unique_list}')"
   ]
  },
  {
   "cell_type": "markdown",
   "id": "43dc3c8f",
   "metadata": {},
   "source": [
    "### Assignment 7: Nested Lists\n",
    "\n",
    "#### Create a nested list representing a 3x3 matrix and print the matrix. Access and print the element at the second row and third column.\n"
   ]
  },
  {
   "cell_type": "code",
   "execution_count": 24,
   "id": "f2ad7722",
   "metadata": {},
   "outputs": [
    {
     "name": "stdout",
     "output_type": "stream",
     "text": [
      "[1, 2, 3]\n",
      "[4, 5, 6]\n",
      "[7, 8, 9]\n",
      "6\n",
      "length of the matrix is: 3\n"
     ]
    }
   ],
   "source": [
    "matrix =[[1,2,3], [4,5,6], [7,8,9]]\n",
    "\n",
    "for row in matrix:\n",
    "    print(row)\n",
    "\n",
    "print(matrix[1][2])\n",
    "print(f\"length of the matrix is: {len(matrix)}\")"
   ]
  },
  {
   "cell_type": "code",
   "execution_count": 25,
   "id": "3e927a68",
   "metadata": {},
   "outputs": [
    {
     "data": {
      "text/plain": [
       "(3, 3)"
      ]
     },
     "execution_count": 25,
     "metadata": {},
     "output_type": "execute_result"
    }
   ],
   "source": [
    "import numpy as np\n",
    "matrix = np.array([[1, 2, 3], [4, 5, 6], [7, 8, 9]])\n",
    "matrix.shape  # (3, 3)"
   ]
  },
  {
   "cell_type": "markdown",
   "id": "54796474",
   "metadata": {},
   "source": [
    "#### A matrix’s “length” is not standard terminology — usually, we talk about:\n",
    "\n",
    "- Dimensions: m × n (rows × columns).\n",
    "\n",
    "- Number of elements: m × n (total entries).\n",
    "Example: A 3 × 4 matrix has 12 elements.\n",
    "\n",
    "- .shape → (rows, columns)\n",
    "\n",
    "- .size → total elements."
   ]
  },
  {
   "cell_type": "markdown",
   "id": "1d3e3881",
   "metadata": {},
   "source": [
    "### Assignment 8: List of Dictionaries\n",
    "\n",
    "#### Create a list of dictionaries where each dictionary represents a student with keys 'name' and 'score'. Sort the list of dictionaries by the 'score' in descending order and print the sorted list."
   ]
  },
  {
   "cell_type": "code",
   "execution_count": 20,
   "id": "bae584dc",
   "metadata": {},
   "outputs": [
    {
     "name": "stdout",
     "output_type": "stream",
     "text": [
      "[{'name': 'Bob', 'score': 92}, {'name': 'Alice', 'score': 85}, {'name': 'Charlie', 'score': 78}]\n"
     ]
    }
   ],
   "source": [
    "# Define a normal function\n",
    "def get_score(student):\n",
    "    return student['score']\n",
    "\n",
    "# Example data\n",
    "students = [\n",
    "    {\"name\": \"Alice\", \"score\": 85},\n",
    "    {\"name\": \"Bob\", \"score\": 92},\n",
    "    {\"name\": \"Charlie\", \"score\": 78}\n",
    "]\n",
    "\n",
    "# Sort using the normal function\n",
    "sorted_students = sorted(students, key=get_score, reverse=True)\n",
    "print(sorted_students)\n"
   ]
  },
  {
   "cell_type": "code",
   "execution_count": 22,
   "id": "72beb5af",
   "metadata": {},
   "outputs": [
    {
     "name": "stdout",
     "output_type": "stream",
     "text": [
      "[{'name': 'Avika', 'score': 95}, {'name': 'Anita', 'score': 92}, {'name': 'Shiva', 'score': 90}, {'name': 'Roha', 'score': 88}, {'name': 'Karan', 'score': 85}]\n"
     ]
    }
   ],
   "source": [
    "list_dict = [{\"name\": \"Shiva\", \"score\": 90}, \n",
    "        {\"name\": \"Avika\", \"score\": 95}, \n",
    "        {\"name\": \"Karan\", \"score\": 85},\n",
    "        {\"name\": \"Anita\", \"score\": 92},\n",
    "        {\"name\": \"Roha\", \"score\": 88}]\n",
    "\n",
    "sorted_students = sorted(list_dict, key=lambda list_dict: list_dict[\"score\"] , reverse=True)\n",
    "print(sorted_students)\n"
   ]
  },
  {
   "cell_type": "markdown",
   "id": "6a70df8d",
   "metadata": {},
   "source": [
    "### Assignment 9: Matrix Transposition\n",
    "\n",
    "#### Write a function that takes a 3x3 matrix (nested list) as input and returns its transpose. Print the original and transposed matrices.\n"
   ]
  },
  {
   "cell_type": "code",
   "execution_count": 31,
   "id": "43540a7a",
   "metadata": {},
   "outputs": [
    {
     "name": "stdout",
     "output_type": "stream",
     "text": [
      "Original matrix:\n",
      "[1, 2, 3]\n",
      "[4, 5, 6]\n",
      "[7, 8, 9]\n",
      "Transposed matrix:\n",
      "[1, 4, 7]\n",
      "[2, 5, 8]\n",
      "[3, 6, 9]\n"
     ]
    }
   ],
   "source": [
    "def transpose_matrix(matrix):\n",
    "    return [[matrix[i][j] for i in range(len(matrix))] for j in range(len(matrix[0]))]\n",
    "\n",
    "matrix = [\n",
    "    [1, 2, 3],\n",
    "    [4, 5, 6],\n",
    "    [7, 8, 9]\n",
    "]\n",
    "\n",
    "transposed = transpose_matrix(matrix)\n",
    "\n",
    "print(\"Original matrix:\")\n",
    "for row in matrix:\n",
    "    print(row)\n",
    "\n",
    "print(\"Transposed matrix:\")\n",
    "for row in transposed:\n",
    "    print(row)"
   ]
  },
  {
   "cell_type": "markdown",
   "id": "0107c2aa",
   "metadata": {},
   "source": [
    "- i is the row index.\n",
    "\n",
    "- j is the column index.\n",
    "\n",
    "Swapping their positions in the loops effectively flips the matrix.\n",
    "\n",
    "#### Why double list comprehension?\n",
    "\n",
    "- Outer list: builds each new row from original columns.\n",
    "\n",
    "- Inner list: collects elements down a column.\n",
    "\n"
   ]
  },
  {
   "cell_type": "code",
   "execution_count": null,
   "id": "808ec048",
   "metadata": {},
   "outputs": [],
   "source": [
    "[  [   matrix[i][j]    for i in range(len(matrix)) ]   for j in range(len(matrix[0])) ]\n",
    "   ^------------------ inner loop ----------------^     ^-------- outer loop --------^\n"
   ]
  },
  {
   "cell_type": "markdown",
   "id": "260293c0",
   "metadata": {},
   "source": [
    "### Assignment 10: Flattening a Nested List\n",
    "\n",
    "#### Write a function that takes a nested list and flattens it into a single list. Print the original and flattened lists."
   ]
  },
  {
   "cell_type": "code",
   "execution_count": 33,
   "id": "38ce8723",
   "metadata": {},
   "outputs": [
    {
     "name": "stdout",
     "output_type": "stream",
     "text": [
      "Original nested list: [[1, 2, 3], [4, 5, 6], [7, 8, 9]]\n",
      "Flattened list: [1, 2, 3, 4, 5, 6, 7, 8, 9]\n"
     ]
    }
   ],
   "source": [
    "def flattened_list(nested_list):\n",
    "    return [item for sublist in nested_list for item in sublist]\n",
    "\n",
    "nested_list = [[1,2,3], [4,5,6], [7,8,9]]\n",
    "flattened_list = flattened_list(nested_list)\n",
    "print(f\"Original nested list: {nested_list}\")\n",
    "print(f\"Flattened list: {flattened_list}\")"
   ]
  },
  {
   "cell_type": "markdown",
   "id": "3c9c9413",
   "metadata": {},
   "source": [
    "### Assignment 11: List Manipulation\n",
    "\n",
    "#### Create a list of the first 10 positive integers. Remove the elements at indices 2, 4, and 6, and insert the element '99' at index 5. Print the modified list."
   ]
  },
  {
   "cell_type": "code",
   "execution_count": 39,
   "id": "600e46b9",
   "metadata": {},
   "outputs": [
    {
     "name": "stdout",
     "output_type": "stream",
     "text": [
      "[1, 2, 3, 4, 5, 6, 7, 8, 9, 10, 11, 12, 13, 14, 15, 16, 17, 18, 19, 20]\n",
      "[1, 2, 4, 6, 8, 9, 10, 11, 12, 13, 14, 15, 16, 17, 18, 19, 20]\n",
      "[1, 2, 4, 6, 8, 99, 9, 10, 11, 12, 13, 14, 15, 16, 17, 18, 19, 20]\n"
     ]
    }
   ],
   "source": [
    "list1 = [x for x in range(1, 21)]\n",
    "print(list1)\n",
    "del list1[6]\n",
    "del list1[4]\n",
    "del list1[2]\n",
    "print(list1)\n",
    "list1.insert(5,99)\n",
    "print(list1)"
   ]
  },
  {
   "cell_type": "markdown",
   "id": "b5d9fbc4",
   "metadata": {},
   "source": [
    "### Assignment 12: List Zipping\n",
    "\n",
    "Create two lists of the same length. Use the `zip` function to combine these lists into a list of tuples and print the result."
   ]
  },
  {
   "cell_type": "code",
   "execution_count": 2,
   "id": "8ec9d211",
   "metadata": {},
   "outputs": [
    {
     "name": "stdout",
     "output_type": "stream",
     "text": [
      "[(1, 'a'), (2, 'b'), (3, 'c')]\n"
     ]
    }
   ],
   "source": [
    "list1 = [1,2,3]\n",
    "list2 = [\"a\",\"b\",\"c\"]\n",
    "list3 = list(zip(list1, list2))\n",
    "print(list3)"
   ]
  },
  {
   "cell_type": "markdown",
   "id": "f6ad2adb",
   "metadata": {},
   "source": [
    "### Assignment 13: List Reversal\n",
    "\n",
    "Write a function that takes a list and returns a new list with the elements in reverse order. Print the original and reversed lists."
   ]
  },
  {
   "cell_type": "code",
   "execution_count": 4,
   "id": "656d67e7",
   "metadata": {},
   "outputs": [
    {
     "name": "stdout",
     "output_type": "stream",
     "text": [
      "Original list: [1, 2, 3, 4, 5]\n",
      "Reversed list: [5, 4, 3, 2, 1]\n"
     ]
    }
   ],
   "source": [
    "def reversed_list(input_list):\n",
    "    return input_list[::-1]\n",
    "\n",
    "input_list = [1, 2, 3, 4, 5]\n",
    "reversed_list = reversed_list(input_list)\n",
    "print(f\"Original list: {input_list}\")\n",
    "print(f\"Reversed list: {reversed_list}\")"
   ]
  },
  {
   "cell_type": "markdown",
   "id": "17b2114d",
   "metadata": {},
   "source": [
    "### Assignment 14: List Rotation\n",
    "\n",
    "Write a function that rotates a list by n positions. Print the original and rotated lists."
   ]
  },
  {
   "cell_type": "code",
   "execution_count": 6,
   "id": "2fc26726",
   "metadata": {},
   "outputs": [
    {
     "name": "stdout",
     "output_type": "stream",
     "text": [
      "Original list: [1, 2, 3, 4, 5]\n",
      "Rotated list: [3, 4, 5, 1, 2]\n"
     ]
    }
   ],
   "source": [
    "def rotate_list(lst, n):\n",
    "    return lst[n:] + lst[:n]\n",
    "\n",
    "original_list = [1, 2, 3, 4, 5]\n",
    "rotated_list = rotate_list(original_list, 2)\n",
    "print(f\"Original list: {original_list}\")\n",
    "print(f\"Rotated list: {rotated_list}\")"
   ]
  },
  {
   "cell_type": "markdown",
   "id": "1deda21c",
   "metadata": {},
   "source": [
    "### Assignment 15: List Intersection\n",
    "\n",
    "Write a function that takes two lists and returns a new list containing only the elements that are present in both lists. Print the intersected list."
   ]
  },
  {
   "cell_type": "code",
   "execution_count": 5,
   "id": "541d042d",
   "metadata": {},
   "outputs": [
    {
     "name": "stdout",
     "output_type": "stream",
     "text": [
      "List 1: [1, 2, 3, 4, 5]\n",
      "List 2: [3, 4, 5, 6, 7]\n",
      "Intersection: [3, 4, 5]\n"
     ]
    }
   ],
   "source": [
    "def list_intersection(lst1, lst2):\n",
    "    return [x for x in lst1 if x in lst2]\n",
    "\n",
    "list1 = [1, 2, 3, 4, 5]\n",
    "list2 = [3, 4, 5, 6, 7]\n",
    "intersection = list_intersection(list1, list2)\n",
    "print(f\"List 1: {list1}\")\n",
    "print(f\"List 2: {list2}\")\n",
    "print(f\"Intersection: {intersection}\")"
   ]
  }
 ],
 "metadata": {
  "kernelspec": {
   "display_name": "Python 3",
   "language": "python",
   "name": "python3"
  },
  "language_info": {
   "codemirror_mode": {
    "name": "ipython",
    "version": 3
   },
   "file_extension": ".py",
   "mimetype": "text/x-python",
   "name": "python",
   "nbconvert_exporter": "python",
   "pygments_lexer": "ipython3",
   "version": "3.11.13"
  }
 },
 "nbformat": 4,
 "nbformat_minor": 5
}
